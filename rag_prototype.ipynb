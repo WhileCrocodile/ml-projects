{
 "cells": [
  {
   "cell_type": "markdown",
   "id": "d3f75cd4-503f-4d11-9794-6c05503f15ac",
   "metadata": {},
   "source": [
    "# RAG Prototype"
   ]
  },
  {
   "cell_type": "markdown",
   "id": "610423a8-3916-4b53-90f5-aa4f2ea289ab",
   "metadata": {},
   "source": [
    "A simple prototype of a RAG (Retrieval-Augmented Generation) system for retrieving information from text documents and using it to prompt LLM response generation.\n",
    "\n",
    "* Built based on LangChain and using the Gemma 3 (12B) model.\n",
    "* Requires [Ollama to be set up locally](https://ollama.com/) to run.\n",
    "* Example documents are articles from the SCP Foundation collaborative writing project.\n",
    "* Reference material [can be found on Youtube](https://www.youtube.com/watch?v=2TJxpyO3ei4)."
   ]
  },
  {
   "cell_type": "markdown",
   "id": "2654165b-285d-4149-a3a0-1a5f3a739711",
   "metadata": {},
   "source": [
    "## Loading Documents"
   ]
  },
  {
   "cell_type": "code",
   "execution_count": 137,
   "id": "edd32d89-7324-428e-8a99-7cd9f83fdaf8",
   "metadata": {
    "scrolled": true
   },
   "outputs": [],
   "source": [
    "from bs4 import BeautifulSoup\n",
    "import markdownify"
   ]
  },
  {
   "cell_type": "code",
   "execution_count": 138,
   "id": "24b03887-3507-4739-884b-d5eec528bda1",
   "metadata": {},
   "outputs": [],
   "source": [
    "dir_path = \"./datasets/scp_html/\"\n",
    "file_names = [\"SCP-1000 - SCP Foundation.html\",\n",
    "             \"SCP-1001 - SCP Foundation.html\",\n",
    "             \"SCP-1002 - SCP Foundation.html\"]\n",
    "documents = []\n",
    "for a_file in file_names: \n",
    "    with open(dir_path+a_file, encoding='utf-8',) as myfile:\n",
    "        soup = BeautifulSoup(myfile)\n",
    "    content = soup.find(id=\"main-content\")\n",
    "    content_md = markdownify.markdownify(content.text)\n",
    "    documents.append([a_file,content_md])"
   ]
  },
  {
   "cell_type": "markdown",
   "id": "1fbef71c-de0c-498c-a937-1cac2a9ab5d0",
   "metadata": {},
   "source": [
    "## Converting to Embeddings"
   ]
  },
  {
   "cell_type": "code",
   "execution_count": 154,
   "id": "7a8f75a4-4cbd-4118-b31d-ac47acc20575",
   "metadata": {},
   "outputs": [],
   "source": [
    "from langchain_text_splitters import RecursiveCharacterTextSplitter\n",
    "from langchain.schema.document import Document\n",
    "from langchain_community.embeddings.ollama import OllamaEmbeddings\n",
    "from langchain_community.llms.ollama import Ollama\n",
    "from langchain.vectorstores.chroma import Chroma\n",
    "from langchain.prompts import ChatPromptTemplate"
   ]
  },
  {
   "cell_type": "markdown",
   "id": "58b59203-d0f5-40e4-9011-2bc6259d33a9",
   "metadata": {},
   "source": [
    "### Tokenization"
   ]
  },
  {
   "cell_type": "markdown",
   "id": "926ebf12-1a38-4c9b-b593-706475ab4e56",
   "metadata": {},
   "source": [
    "Since we'll be creating our RAG with LangChain, we need to convert our text documents into LangChain Documents."
   ]
  },
  {
   "cell_type": "code",
   "execution_count": 147,
   "id": "40af602a-603e-4433-b72b-2c9288ce98be",
   "metadata": {},
   "outputs": [],
   "source": [
    "CHROMA_PATH = \"chroma\"\n",
    "PROMPT_TEMPLATE = \"\"\"\n",
    "Answer the question based on only the following context:\n",
    "{context}\n",
    "\n",
    "---\n",
    "Answer the question based on the above context: {question}\n",
    "\"\"\""
   ]
  },
  {
   "cell_type": "code",
   "execution_count": 140,
   "id": "06cd3fd3-19f0-4c48-8252-f88623ec98a7",
   "metadata": {},
   "outputs": [],
   "source": [
    "documents_lang = [Document(page_content=text,metadata={\"name\":name}) for name, text in documents]"
   ]
  },
  {
   "cell_type": "code",
   "execution_count": 141,
   "id": "748ce84b-b9f7-4c4d-b7ed-0d59b6d84084",
   "metadata": {},
   "outputs": [],
   "source": [
    "def split_document(documents: list[Document]):\n",
    "    text_splitter = RecursiveCharacterTextSplitter(chunk_size=800,\n",
    "                                                   chunk_overlap=80,\n",
    "                                                  length_function=len,\n",
    "                                                  is_separator_regex=False)\n",
    "    return text_splitter.split_documents(documents)\n",
    "\n",
    "def add_chunk_index(chunks):\n",
    "    last_doc_name = None\n",
    "    current_chunk_idx = 0\n",
    "    for chunk in chunks:\n",
    "        name = chunk.metadata.get(\"name\")\n",
    "        if last_doc_name == name:\n",
    "            current_chunk_idx += 1\n",
    "        else:\n",
    "            current_chunk_idx = 0\n",
    "        chunk.metadata[\"id\"] = f'{name}:{current_chunk_idx}'\n",
    "        last_doc_name = name\n",
    "    return chunks\n",
    "\n",
    "        \n",
    "chunks = split_document(documents_lang)\n",
    "chunks = add_chunk_index(chunks)"
   ]
  },
  {
   "cell_type": "markdown",
   "id": "8c1b1f18-9e67-4544-8a36-785b88437393",
   "metadata": {},
   "source": [
    "### Adding Embeddings to Database"
   ]
  },
  {
   "cell_type": "code",
   "execution_count": 142,
   "id": "8723aadb-4d0c-491f-9e38-e19af70d6f7a",
   "metadata": {},
   "outputs": [],
   "source": [
    "def get_embedding_function():\n",
    "    embeddings = OllamaEmbeddings(model=\"nomic-embed-text\")\n",
    "    return embeddings"
   ]
  },
  {
   "cell_type": "code",
   "execution_count": 144,
   "id": "052bba43-e50f-4f6d-ba6b-5d44d8399993",
   "metadata": {},
   "outputs": [
    {
     "name": "stdout",
     "output_type": "stream",
     "text": [
      "{'ids': ['SCP-1000 - SCP Foundation.html:0', 'SCP-1000 - SCP Foundation.html:1', 'SCP-1000 - SCP Foundation.html:2', 'SCP-1000 - SCP Foundation.html:3', 'SCP-1000 - SCP Foundation.html:4', 'SCP-1000 - SCP Foundation.html:5', 'SCP-1000 - SCP Foundation.html:6', 'SCP-1000 - SCP Foundation.html:7', 'SCP-1000 - SCP Foundation.html:8', 'SCP-1000 - SCP Foundation.html:9', 'SCP-1000 - SCP Foundation.html:10', 'SCP-1000 - SCP Foundation.html:11', 'SCP-1000 - SCP Foundation.html:12', 'SCP-1000 - SCP Foundation.html:13', 'SCP-1000 - SCP Foundation.html:14', 'SCP-1000 - SCP Foundation.html:15', 'SCP-1000 - SCP Foundation.html:16', 'SCP-1000 - SCP Foundation.html:17', 'SCP-1000 - SCP Foundation.html:18', 'SCP-1000 - SCP Foundation.html:19', 'SCP-1000 - SCP Foundation.html:20', 'SCP-1000 - SCP Foundation.html:21', 'SCP-1000 - SCP Foundation.html:22', 'SCP-1000 - SCP Foundation.html:23', 'SCP-1000 - SCP Foundation.html:24', 'SCP-1001 - SCP Foundation.html:0', 'SCP-1001 - SCP Foundation.html:1', 'SCP-1001 - SCP Foundation.html:2', 'SCP-1001 - SCP Foundation.html:3', 'SCP-1001 - SCP Foundation.html:4', 'SCP-1001 - SCP Foundation.html:5', 'SCP-1001 - SCP Foundation.html:6', 'SCP-1001 - SCP Foundation.html:7', 'SCP-1001 - SCP Foundation.html:8', 'SCP-1001 - SCP Foundation.html:9', 'SCP-1002 - SCP Foundation.html:0', 'SCP-1002 - SCP Foundation.html:1', 'SCP-1002 - SCP Foundation.html:2', 'SCP-1002 - SCP Foundation.html:3', 'SCP-1002 - SCP Foundation.html:4', 'SCP-1002 - SCP Foundation.html:5'], 'embeddings': None, 'documents': None, 'uris': None, 'included': [], 'data': None, 'metadatas': None}\n",
      "Number of existing documents in DB: 41\n",
      "✅ No new documents to add\n"
     ]
    }
   ],
   "source": [
    "def add_to_chroma(chunks: list[Document]):\n",
    "    # Load the existing database.\n",
    "    db = Chroma(\n",
    "        persist_directory=CHROMA_PATH, embedding_function=get_embedding_function()\n",
    "    )\n",
    "\n",
    "    # Add or Update the documents.\n",
    "    existing_items = db.get(include=[])  # IDs are always included by default\n",
    "    existing_ids = set(existing_items[\"ids\"])\n",
    "    print(f\"Number of existing documents in DB: {len(existing_ids)}\")\n",
    "\n",
    "    # Only add documents that don't exist in the DB.\n",
    "    new_chunks = []\n",
    "    for chunk in chunks:\n",
    "        if chunk.metadata[\"id\"] not in existing_ids:\n",
    "            new_chunks.append(chunk)\n",
    "\n",
    "    if len(new_chunks):\n",
    "        print(f\"👉 Adding new documents: {len(new_chunks)}\")\n",
    "        new_chunk_ids = [chunk.metadata[\"id\"] for chunk in new_chunks]\n",
    "        db.add_documents(new_chunks, ids=new_chunk_ids)\n",
    "    else:\n",
    "        print(\"✅ No new documents to add\")\n",
    "\n",
    "add_to_chroma(chunks)"
   ]
  },
  {
   "cell_type": "markdown",
   "id": "03693a09-2c28-4c55-b529-ac7a5d82307f",
   "metadata": {},
   "source": [
    "### Query Testing"
   ]
  },
  {
   "cell_type": "code",
   "execution_count": 156,
   "id": "0905108d-a1c9-4e7d-a8e6-c77d0eebe08e",
   "metadata": {},
   "outputs": [],
   "source": [
    "def query_rag(query_text: str):\n",
    "    # Prepare the DB.\n",
    "    embedding_function = get_embedding_function()\n",
    "    db = Chroma(persist_directory=CHROMA_PATH, embedding_function=embedding_function)\n",
    "\n",
    "    # Search the DB.\n",
    "    results = db.similarity_search_with_score(query_text, k=5)\n",
    "\n",
    "    context_text = \"\\n\\n---\\n\\n\".join([doc.page_content for doc, _score in results])\n",
    "    prompt_template = ChatPromptTemplate.from_template(PROMPT_TEMPLATE)\n",
    "    prompt = prompt_template.format(context=context_text, question=query_text)\n",
    "    # print(prompt)\n",
    "\n",
    "    model = Ollama(model=\"gemma3:12b\")\n",
    "    response_text = model.invoke(prompt)\n",
    "\n",
    "    sources = [doc.metadata.get(\"id\", None) for doc, _score in results]\n",
    "    formatted_response = f\"Response: {response_text}\\nSources: {sources}\"\n",
    "    print(formatted_response)\n",
    "    return response_text"
   ]
  },
  {
   "cell_type": "code",
   "execution_count": 160,
   "id": "43919946-4df8-44c3-8ee7-4750b3e0f73c",
   "metadata": {
    "scrolled": true
   },
   "outputs": [
    {
     "name": "stdout",
     "output_type": "stream",
     "text": [
      "Response: SCP-1001 is a plant-like organism contained at Bio Site-103. It exhibits unusual behavior and preferences, and its intelligence is highly debatable. \n",
      "\n",
      "Here's a breakdown of what the context describes:\n",
      "\n",
      "*   **Appearance & Size:** It is described as a plant with a caudex and leaves. It is contained within a soil core 9 meters in diameter and 4 meters deep.\n",
      "*   **Prey Preferences:** It prefers to consume intelligent animals, especially those capable of tool use or building structures. Humans are its preferred prey, but it will also attack primates, dogs, parrots, pigs, beavers, ants, and nest-building birds, even though some of these are much smaller than its typical prey size and result in a net energy loss.\n",
      "*   **Hunting Tactics:** It uses two primary hunting tactics: burying its leaves to ambush prey (requiring a minimum size of 40 kg) and sophisticated audio mimicry to lure prey, including recreating and combining sounds to mimic known voices.\n",
      "*   **Bone Arrangement:** It doesn't fully digest hard tissues, and excretes bones which it then arranges in complex, seemingly useless patterns on or beneath the soil surface. These patterns have drawn comparisons to Nazca lines and anomalous mandalas.\n",
      "*   **Containment:** It requires containment following Dangerous Organisms Protocol 12A, and no objects capable of producing hazardous sound can be within hearing distance.\n",
      "*   **Classification:** It is classified as Euclid (meaning its properties are not fully understood), Danger (meaning it poses a significant threat) and vlam (an unknown classification).\n",
      "\n",
      "\n",
      "\n",
      "\n",
      "Sources: ['SCP-1001 - SCP Foundation.html:5', 'SCP-1001 - SCP Foundation.html:4', 'SCP-1001 - SCP Foundation.html:9', 'SCP-1001 - SCP Foundation.html:6', 'SCP-1001 - SCP Foundation.html:0']\n"
     ]
    },
    {
     "data": {
      "text/plain": [
       "\"SCP-1001 is a plant-like organism contained at Bio Site-103. It exhibits unusual behavior and preferences, and its intelligence is highly debatable. \\n\\nHere's a breakdown of what the context describes:\\n\\n*   **Appearance & Size:** It is described as a plant with a caudex and leaves. It is contained within a soil core 9 meters in diameter and 4 meters deep.\\n*   **Prey Preferences:** It prefers to consume intelligent animals, especially those capable of tool use or building structures. Humans are its preferred prey, but it will also attack primates, dogs, parrots, pigs, beavers, ants, and nest-building birds, even though some of these are much smaller than its typical prey size and result in a net energy loss.\\n*   **Hunting Tactics:** It uses two primary hunting tactics: burying its leaves to ambush prey (requiring a minimum size of 40 kg) and sophisticated audio mimicry to lure prey, including recreating and combining sounds to mimic known voices.\\n*   **Bone Arrangement:** It doesn't fully digest hard tissues, and excretes bones which it then arranges in complex, seemingly useless patterns on or beneath the soil surface. These patterns have drawn comparisons to Nazca lines and anomalous mandalas.\\n*   **Containment:** It requires containment following Dangerous Organisms Protocol 12A, and no objects capable of producing hazardous sound can be within hearing distance.\\n*   **Classification:** It is classified as Euclid (meaning its properties are not fully understood), Danger (meaning it poses a significant threat) and vlam (an unknown classification).\\n\\n\\n\\n\""
      ]
     },
     "execution_count": 160,
     "metadata": {},
     "output_type": "execute_result"
    }
   ],
   "source": [
    "query_rag(\"Describe what SCP-1001 is, especially including species and behavior.\")"
   ]
  }
 ],
 "metadata": {
  "kernelspec": {
   "display_name": ".venv",
   "language": "python",
   "name": ".venv"
  },
  "language_info": {
   "codemirror_mode": {
    "name": "ipython",
    "version": 3
   },
   "file_extension": ".py",
   "mimetype": "text/x-python",
   "name": "python",
   "nbconvert_exporter": "python",
   "pygments_lexer": "ipython3",
   "version": "3.12.8"
  }
 },
 "nbformat": 4,
 "nbformat_minor": 5
}
